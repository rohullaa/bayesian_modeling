{
 "cells": [
  {
   "cell_type": "code",
   "execution_count": 1,
   "id": "30b0a485",
   "metadata": {},
   "outputs": [
    {
     "data": {
      "text/html": [
       "<style>.container { width:100% !important; }</style>"
      ],
      "text/plain": [
       "<IPython.core.display.HTML object>"
      ]
     },
     "metadata": {},
     "output_type": "display_data"
    }
   ],
   "source": [
    "from IPython.core.display import display, HTML\n",
    "display(HTML(\"<style>.container { width:100% !important; }</style>\"))"
   ]
  },
  {
   "cell_type": "code",
   "execution_count": 2,
   "id": "f776c813",
   "metadata": {},
   "outputs": [],
   "source": [
    "import pandas as pd\n",
    "import numpy as np\n",
    "import matplotlib.pyplot as plt\n",
    "from scipy import stats\n",
    "import random"
   ]
  },
  {
   "cell_type": "code",
   "execution_count": 3,
   "id": "2ee189f2",
   "metadata": {
    "scrolled": true
   },
   "outputs": [
    {
     "name": "stderr",
     "output_type": "stream",
     "text": [
      "Intel(R) Extension for Scikit-learn* enabled (https://github.com/intel/scikit-learn-intelex)\n"
     ]
    }
   ],
   "source": [
    "from sklearnex import patch_sklearn\n",
    "patch_sklearn()\n",
    "\n",
    "from sklearn.model_selection import train_test_split, cross_val_score, GridSearchCV\n",
    "from sklearn.metrics import classification_report\n",
    "from sklearn.linear_model import LogisticRegression\n",
    "from sklearn.svm import SVC\n",
    "from sklearn.utils import resample"
   ]
  },
  {
   "cell_type": "code",
   "execution_count": 4,
   "id": "dbecaa72",
   "metadata": {},
   "outputs": [],
   "source": [
    "from imblearn.over_sampling import SMOTE\n",
    "from imblearn.combine import SMOTEENN, SMOTETomek\n",
    "\n",
    "from imblearn.pipeline import make_pipeline\n",
    "import statsmodels.api as sm"
   ]
  },
  {
   "cell_type": "markdown",
   "id": "c19a07b5",
   "metadata": {},
   "source": [
    "## Loading the data"
   ]
  },
  {
   "cell_type": "code",
   "execution_count": 5,
   "id": "3fcafdf4",
   "metadata": {},
   "outputs": [],
   "source": [
    "obs_data = pd.read_csv(\"observation_features.csv\")\n",
    "treat_data = pd.read_csv(\"treatment_features.csv\")\n",
    "action_data = pd.read_csv(\"treatment_actions.csv\")\n",
    "outcome_data = pd.read_csv(\"treatment_outcomes.csv\")"
   ]
  },
  {
   "cell_type": "code",
   "execution_count": 6,
   "id": "ea81bda5",
   "metadata": {},
   "outputs": [],
   "source": [
    "cols = (['Covid-Recovered', 'Covid-Positive', 'No-Taste/Smell', 'Fever', 'Headache', 'Pneumonia', 'Stomach', 'Myocarditis', 'Blood-Clots', 'Death',\n",
    "        'Age', 'Gender', 'Income'] +\n",
    "         [f'Gene_{i+1:03}' for i in range(128)] +\n",
    "         ['Asthma', 'Obesity', 'Smoking', 'Diabetes', 'Heart disease', 'Hypertension',\n",
    "         'Vacc_1', 'Vacc_2', 'Vacc_3'])\n",
    "\n",
    "obs_data.columns = cols\n",
    "treat_data.columns = cols\n",
    "outcome_data.columns = cols[:10]\n",
    "action_data.columns = ['Treatment_1', 'Treatment_2']"
   ]
  },
  {
   "cell_type": "markdown",
   "id": "cd5e789c",
   "metadata": {},
   "source": [
    "## Slicing the data"
   ]
  },
  {
   "cell_type": "code",
   "execution_count": 7,
   "id": "1d529f36",
   "metadata": {},
   "outputs": [],
   "source": [
    "symptoms = obs_data.iloc[:,0:10]\n",
    "age = obs_data.iloc[:,10]\n",
    "gender = obs_data.iloc[:,11]\n",
    "income = obs_data.iloc[:,12]\n",
    "genome = obs_data.iloc[:,13:141]\n",
    "comorbidities = obs_data.iloc[:,141:147]\n",
    "vaccination_status = np.array(obs_data.iloc[:,147:])\n",
    "\n",
    "vacced = obs_data[np.sum(obs_data.iloc[:,-3:], axis=1) == 1]\n",
    "vacced_neg = vacced[vacced.iloc[:,1]==0]\n",
    "vacced_pos = vacced[vacced.iloc[:,1]==1]\n",
    "\n",
    "un_vacced = obs_data[np.sum(obs_data.iloc[:,-3:], axis=1) == 0]\n",
    "un_vacced_neg = un_vacced[un_vacced.iloc[:,1]==0]\n",
    "un_vacced_pos = un_vacced[un_vacced.iloc[:,1]==1]\n",
    "\n",
    "symptom_names = ['Covid-Recovered', 'Covid-Positive', 'No-Taste/Smell', 'Fever', 'Headache', 'Pneumonia', 'Stomach', 'Myocarditis', 'Blood-Clots', 'Death']\n",
    "prior_probs= [np.sum(obs_data.iloc[:,i]) / len(obs_data) for i, key in enumerate(symptom_names)]"
   ]
  },
  {
   "cell_type": "code",
   "execution_count": 8,
   "id": "a6f3c2c7",
   "metadata": {},
   "outputs": [],
   "source": [
    "class Pipeline_observational():\n",
    "    def __init__(self,X,y,clf,obs_data,random_state=None):\n",
    "        self.obs_data = obs_data\n",
    "        self.X = X\n",
    "        self.y = y\n",
    "        self.clf = clf\n",
    "        self.threshold = threshold = 0.8\n",
    "        self.random_state = random_state\n",
    "        self.parameter_grid = parameter_grid = [{'kernel': ['poly', 'rbf'],\n",
    "                                                'C': [0.01, 0.1,1, 10, 100,],\n",
    "                                                'gamma': [.1, .01, 1e-3]}, ]\n",
    "        \n",
    "        self.symptom_names = ['Covid-Recovered', 'Covid-Positive', 'No-Taste/Smell', 'Fever', 'Headache', 'Pneumonia', 'Stomach', 'Myocarditis', 'Blood-Clots', 'Death']\n",
    "\n",
    "    def run_select_features(self):\n",
    "        \"\"\"This function finds the selected features, then runs BIC test in order \n",
    "        to see whether the model with selected features are better than the full model\"\"\"\n",
    "        \n",
    "        #finding the best features:\n",
    "        self.best_features = best_features = self.select_features(self.X,self.y,self.threshold)\n",
    "        self.important_genes = [col for col in self.X.iloc[:,best_features].columns]\n",
    "        \n",
    "        ###tuning the parameters for the given clf\n",
    "        #print(\"Classification using best features\")\n",
    "        #self.tune_parameters(X.iloc[:,best_features],y,clf,parameter_grid)\n",
    "\n",
    "        #print(\"Classification using all features\")\n",
    "        #self.tune_parameters(X,y,clf,parameter_grid)\n",
    "        \n",
    "        \n",
    "        #evalutiong th models by BIC\n",
    "        #print(\"BIC-test:\")\n",
    "        #BIC_selected = self.model_evaluation(self.X.iloc[:,best_features],self.y)\n",
    "        #BIC_all = self.model_evaluation(self.X,self.y)\n",
    "        \n",
    "        \"\"\"print(f'BIC_selected: {BIC_selected}')\n",
    "        print(f'BIC_all: {BIC_all}')\n",
    "        \n",
    "        if BIC_selected <= BIC_all:\n",
    "            print(\"BIC: selected model is better\")\n",
    "        else:\n",
    "            print(\"BIC: full model is better\")\"\"\"\n",
    "\n",
    "\n",
    "    def select_features(self, X, Y, threshold):\n",
    "        \"\"\" Select the most important features of a data set, where X (2D)\n",
    "        contains the feature data, and Y (1D) contains the target\n",
    "        \"\"\"\n",
    "        X, Y = np.array(X), np.array(Y)\n",
    "\n",
    "        n_features = X.shape[1]\n",
    "        n_data =  X.shape[0]\n",
    "        alpha_b = np.ones([n_features, 2 ])\n",
    "        beta_b = np.ones([n_features, 2])\n",
    "        log_p = np.zeros(n_features)\n",
    "\n",
    "        log_null = 0\n",
    "        alpha = 1\n",
    "        beta = 1\n",
    "        for t in range(n_data):\n",
    "            p_null = alpha / (alpha + beta)\n",
    "            log_null += np.log(p_null)*Y[t] + np.log(1-p_null)*(1 - Y[t])\n",
    "            alpha += Y[t]\n",
    "            beta += (1 - Y[t])\n",
    "            for i in range(n_features):\n",
    "                x_ti = int(X[t,i])\n",
    "                p = alpha_b[i, x_ti] / (alpha_b[i, x_ti] + beta_b[i, x_ti])\n",
    "                log_p[i] += np.log(p)*Y[t] + np.log(1-p)*(1 - Y[t])\n",
    "                alpha_b[i, x_ti] += Y[t]\n",
    "                beta_b[i, x_ti] += (1 - Y[t])\n",
    "        log_max=np.mean(log_p)\n",
    "        log_max2=np.mean(log_null)\n",
    "        log_p=log_p-log_max\n",
    "        log_null=log_null-log_max2\n",
    "        #p = np.exp(log_p) / (np.exp(log_p) + np.exp(log_null))\n",
    "        p = 1 / (np.exp(log_null - log_p) + 1)\n",
    "        #print(f\"{(log_p)=}\\n{(log_null)=}\\n{(log_p) + (log_null)=}\\n {p=}\")\n",
    "        #print(f\"{np.exp(log_p)=}\\n{np.exp(log_null)=}\\n{np.exp(log_p) + np.exp(log_null)=}\")\n",
    "\n",
    "        features = [i for i in range(n_features) if p[i] > threshold]\n",
    "\n",
    "        return features\n",
    "\n",
    "    def tune_parameters(self, X, y, clf, parameter_grid, scoring=None, cv=None):\n",
    "        \"\"\" Given X, y, a classifier and a parameter grid,\n",
    "        find the best parameters for the classifier and data using GridSearch\n",
    "        with cross validation.\n",
    "        \"\"\"\n",
    "        # The code below is from\n",
    "        # https://scikit-learn.org/stable/auto_examples/model_selection/plot_grid_search_digits.html\n",
    "\n",
    "        X_train, X_test, y_train, y_test = train_test_split(X, y, random_state=self.random_state)\n",
    "\n",
    "        print(f\"# Tuning hyper-parameters for {scoring=}\")\n",
    "        print()\n",
    "\n",
    "        clf = GridSearchCV(    clf,\n",
    "                                parameter_grid,\n",
    "                                scoring=scoring,\n",
    "                                n_jobs=-1,\n",
    "                                cv=cv\n",
    "                            ).fit(X_train, y_train)\n",
    "\n",
    "        #piped_clf\n",
    "        print(\"Best parameters set found on development set:\")\n",
    "        print()\n",
    "        print(f\"{clf.best_params_}, score: {clf.best_score_:.4f}\")\n",
    "        print()\n",
    "        \"\"\"print(\"Grid scores on development set:\")\n",
    "        print()\n",
    "        means = clf.cv_results_['mean_test_score']\n",
    "        stds = clf.cv_results_['std_test_score']\n",
    "        for mean, std, params in zip(means, stds, clf.cv_results_['params']):\n",
    "            print(\"%0.3f (+/-%0.03f) for %r\"\n",
    "                  % (mean, std * 2, params))\n",
    "        print()\"\"\"\n",
    "\n",
    "        print(\"Classification report:\")\n",
    "        print()\n",
    "\n",
    "        print(classification_report(y_test, clf.predict(X_test)))\n",
    "        print()\n",
    "\n",
    "    def model_evaluation(self,X,y):\n",
    "        \"\"\"Input: an X\"\"\"\n",
    "        \"\"\"Output: Bayesian information criterion - BIC(X)\"\"\"\n",
    "        \n",
    "        #fitting a regression in order to compute BIC\n",
    "        model = sm.OLS(y,X).fit()\n",
    "        return model.bic\n",
    "\n",
    "    def find_alpha(self, beta,p):\n",
    "        \"\"\" Given beta and a mean probability p, compute and return the alpha of a beta distribution. \"\"\"\n",
    "        return beta*p/(1-p)\n",
    "    def find_efficacy(self, group_pos: pd.DataFrame, group_neg: pd.DataFrame, symptom, prior_probs):\n",
    "        if isinstance(symptom, int):\n",
    "            symptom_index = symptom\n",
    "            symptom_name = group_pos.keys()[symptom]\n",
    "        else:\n",
    "            symptom_name = symptom\n",
    "            symptom_index = list(group_pos.keys()).index(symptom)\n",
    "\n",
    "        group_pos_count = np.sum(group_pos[symptom_name] * group_pos.iloc[:,1])\n",
    "        group_neg_count = np.sum(group_neg[symptom_name] * group_neg.iloc[:,1])\n",
    "\n",
    "        v = group_pos_count/len(group_pos)\n",
    "        n_v = group_neg_count/len(group_neg)\n",
    "\n",
    "        if n_v == 0:\n",
    "            print(f'{v=}, {n_v=}: Division by zero')\n",
    "            return\n",
    "\n",
    "        IRR = v/n_v\n",
    "\n",
    "        #print(v, n_v)\n",
    "        efficacy = 100*(1- IRR)\n",
    "\n",
    "        N = 100_000\n",
    "        beta = 1\n",
    "        p = prior_probs[symptom_index]\n",
    "        alpha = self.find_alpha(beta,p)\n",
    "\n",
    "        samples_group_pos = stats.beta.rvs(alpha + group_pos_count, beta + len(group_pos) - group_pos_count, size=N)\n",
    "        samples_group_neg = stats.beta.rvs(alpha + group_neg_count, beta + len(group_neg) - group_neg_count, size=N)\n",
    "\n",
    "        samples_ve = 100 * (1 - samples_group_pos/samples_group_neg)\n",
    "        lower = np.percentile(samples_ve, 2.5)\n",
    "        upper = np.percentile(samples_ve, 97.5)\n",
    "        \n",
    "        if efficacy >= lower and efficacy <= upper:\n",
    "            status = 'not rejected'\n",
    "        else:\n",
    "            status = 'rejected'\n",
    "            \n",
    "        print(f'{symptom_name:15s}: {efficacy:3.3f} - ({lower:3.3f}, {upper:3.3f}) - {status}')\n",
    "    \n",
    "    def run_efficacy(self, vacced, un_vacced,prior_probs):\n",
    "        for i, s in enumerate(self.symptom_names):\n",
    "            self.find_efficacy(vacced,un_vacced,i,prior_probs)\n",
    "        print(\"\")\n",
    "        \n",
    "        \"\"\"\n",
    "        vacc_type1 = self.obs_data[obs_data.Vacc_1 == 1]\n",
    "        vacc_type2 = self.obs_data[obs_data.Vacc_2 == 1]\n",
    "        vacc_type3 = self.obs_data[obs_data.Vacc_3 == 1]\n",
    "        vaccination_types = [vacc_type1,vacc_type2,vacc_type3]\n",
    "        vaccination_names = ['type 1', 'type 2', 'type 3']\n",
    "        \n",
    "        for name in vaccination_names:\n",
    "            print(name)\n",
    "            index = vaccination_names.index(name)\n",
    "            for i, s in enumerate(self.symptom_names):\n",
    "                self.find_efficacy(vaccination_types[index],un_vacced,i,prior_probs)\n",
    "            print(\"\")\n",
    "        \"\"\"\n",
    "        \n",
    "        \n",
    "    def side_effects(self, vacced_neg, un_vacced_neg, start, end):\n",
    "        df = pd.DataFrame(index=vacced_neg.keys()[start:end],\n",
    "                          columns = (\"p1 (%)\", \"p2 (%)\", \"Diff (%)\", \"Credible Interval (%)\", \"Null Hypothesis\", ),\n",
    "                         )\n",
    "\n",
    "        for i in range(start, end):\n",
    "            symptom = vacced_neg.keys()[i]\n",
    "            p1 = vacced_neg.sum()[i] / len(self.y) / (len(vacced_neg) / len(self.y))\n",
    "            p2 = un_vacced_neg.sum()[i] / len(self.y) / (len(un_vacced_neg) / len(self.y))\n",
    "\n",
    "\n",
    "            lower = (p1-p2 - 1.64 * np.sqrt((p1*(1-p1) / len(vacced_neg)) + (p2 * (1-p2) / len(un_vacced_neg))))\n",
    "            higher = (p1-p2 + 1.64 * np.sqrt((p1*(1-p1) / len(vacced_neg)) + (p2 * (1-p2) / len(un_vacced_neg))))\n",
    "\n",
    "            p1, p2, lower, higher = p1 * 100, p2 * 100, lower * 100, higher * 100\n",
    "\n",
    "            df.loc[symptom] = np.array([round(p1, 4), round(p2, 4), round(p1 - p2, 4), (round(lower, 4), round(higher, 4)),\n",
    "                               \"rejected\" if lower>0 else \"not rejected\", ],dtype=object)\n",
    "\n",
    "\n",
    "        return df\n",
    "    \n",
    "        "
   ]
  },
  {
   "cell_type": "code",
   "execution_count": 9,
   "id": "4577ca7f",
   "metadata": {},
   "outputs": [
    {
     "ename": "SyntaxError",
     "evalue": "closing parenthesis ']' does not match opening parenthesis '(' (1638845493.py, line 17)",
     "output_type": "error",
     "traceback": [
      "\u001b[0;36m  File \u001b[0;32m\"/var/folders/xc/9tjchlhd1yn758nk26c1m1dc0000gn/T/ipykernel_32226/1638845493.py\"\u001b[0;36m, line \u001b[0;32m17\u001b[0m\n\u001b[0;31m    prior_probs= [(np.sum(new_treat_data[sym]) + np.sum(new_outcome_data[sym]) / (len(new_treat_data) * 2) for sym in symptom_names][2:]\u001b[0m\n\u001b[0m                                                                                                                                   ^\u001b[0m\n\u001b[0;31mSyntaxError\u001b[0m\u001b[0;31m:\u001b[0m closing parenthesis ']' does not match opening parenthesis '('\n"
     ]
    }
   ],
   "source": [
    "class Pipeline_treatment():\n",
    "    def __init__(self,treat_data,action_data,outcome_data):\n",
    "        import warnings\n",
    "        warnings.filterwarnings('ignore')\n",
    "\n",
    "        new_treat_data = treat_data[((np.sum(treat_data.iloc[:,2:10],axis=1) > 0.0) | np.sum(outcome_data.iloc[:,2:10],axis=1) > 0.0)]\n",
    "        group_first = new_treat_data[((action_data.iloc[:,0] == 1) & (action_data.iloc[:,1] == 0))]\n",
    "        group_second = new_treat_data[((action_data.iloc[:,0] == 0) & (action_data.iloc[:,1] == 1))]\n",
    "        group_both = new_treat_data[((action_data.iloc[:,0] == 1) & (action_data.iloc[:,1] == 1))]\n",
    "        group_none = new_treat_data[((action_data.iloc[:,0] == 0) & (action_data.iloc[:,1] == 0))]\n",
    "\n",
    "        new_outcome_data = outcome_data[((np.sum(treat_data.iloc[:,2:10],axis=1) > 0.0) | np.sum(outcome_data.iloc[:,2:10],axis=1) > 0.0)]\n",
    "        outcome_first = new_outcome_data[((action_data.iloc[:,0] == 1) & (action_data.iloc[:,1] == 0))]\n",
    "        outcome_second = new_outcome_data[((action_data.iloc[:,0] == 0) & (action_data.iloc[:,1] == 1))]\n",
    "        outcome_both = new_outcome_data[((action_data.iloc[:,0] == 1) & (action_data.iloc[:,1] == 1))]\n",
    "        outcome_none = new_outcome_data[((action_data.iloc[:,0] == 0) & (action_data.iloc[:,1] == 0))]\n",
    "        prior_probs= [(np.sum(new_treat_data[sym]) + np.sum(new_outcome_data[sym]) / (len(new_treat_data) * 2) for sym in symptom_names][2:]\n",
    "\n",
    "        for outcome_treated, pre_treated, treatment in zip([outcome_first, outcome_second, outcome_both],[group_first, group_second, group_both],['treatment 1', 'treatment 2', 'both treatments']):\n",
    "            print(f\"{treatment} efficacy:\")\n",
    "            for i, key in enumerate(outcome_data.keys()[2:]):\n",
    "                #print(key)\n",
    "                self.treatment_efficacy(outcome_treated, pre_treated, outcome_none, group_none, prior_probs[i], key)\n",
    "            print()\n",
    "\n",
    "\n",
    "    def find_alpha(self, beta,p):\n",
    "        \"\"\" Given beta and a mean probability p, compute and return the alpha of a beta distribution. \"\"\"\n",
    "        return beta*p/(1-p)\n",
    "\n",
    "    def treatment_efficacy(self, outcome_treated, precondition_treated, outcome_untreated, precondition_untreated, p, symptom_name, log=True):\n",
    "        group_pos_count = np.sum(outcome_treated[symptom_name])\n",
    "        group_neg_count = np.sum(outcome_untreated[symptom_name])\n",
    "\n",
    "        group_pos_total = np.sum(precondition_treated[symptom_name])\n",
    "        group_neg_total = np.sum(precondition_untreated[symptom_name])\n",
    "\n",
    "        if any(v == 0 for v in (group_pos_total, group_neg_total, group_neg_count)):\n",
    "            print(f'{symptom_name:15s}: Division by zero - not enough data to compute efficacy' )\n",
    "            return\n",
    "\n",
    "        v = group_pos_count / group_pos_total\n",
    "        n_v = group_neg_count / group_neg_total\n",
    "        IRR = v/n_v\n",
    "\n",
    "        efficacy = 100 * (1- IRR)\n",
    "\n",
    "        N = 100_000\n",
    "        beta = 1\n",
    "        alpha = self.find_alpha(beta,p)\n",
    "\n",
    "        #symptom_name = symptom_names[symptom_index]\n",
    "        samples_group_pos = stats.beta.rvs(alpha + group_pos_count, beta + len(outcome_treated) - group_pos_count, size=N)\n",
    "        samples_group_neg = stats.beta.rvs(alpha + group_neg_count, beta + len(outcome_untreated) - group_neg_count, size=N)\n",
    "\n",
    "        samples_ve = 100 * (1 - samples_group_pos/samples_group_neg)\n",
    "        lower = np.percentile(samples_ve, 2.5)\n",
    "        upper = np.percentile(samples_ve, 97.5)\n",
    "        if log is True:\n",
    "            print(f'{symptom_name:15s}: {efficacy:7.3f} - 95% CI: ({lower:3.3f}, {upper:3.3f})')\n",
    "\n",
    "        return efficacy, (lower, upper)"
   ]
  },
  {
   "cell_type": "markdown",
   "id": "53fd722d",
   "metadata": {},
   "source": [
    "### The experiment setup\n",
    "\n",
    "In this section we will set up the experiment by running the pipeline with different generated data and see whether it works."
   ]
  },
  {
   "cell_type": "code",
   "execution_count": 10,
   "id": "312788cd",
   "metadata": {
    "scrolled": true
   },
   "outputs": [
    {
     "name": "stdout",
     "output_type": "stream",
     "text": [
      "Covid-Recovered: 28.965 - (20.082, 36.912) - not rejected\n",
      "Covid-Positive : 21.464 - (19.610, 23.258) - not rejected\n",
      "No-Taste/Smell : 47.521 - (41.629, 52.877) - not rejected\n",
      "Fever          : 51.575 - (44.944, 57.391) - not rejected\n",
      "Headache       : 45.473 - (28.899, 58.300) - not rejected\n",
      "Pneumonia      : 57.810 - (51.551, 63.282) - not rejected\n",
      "Stomach        : 50.542 - (25.763, 67.464) - not rejected\n",
      "Myocarditis    : 44.531 - (28.477, 57.154) - not rejected\n",
      "Blood-Clots    : 57.190 - (50.899, 62.763) - not rejected\n",
      "Death          : 93.394 - (90.533, 95.668) - not rejected\n",
      "\n"
     ]
    },
    {
     "data": {
      "text/html": [
       "<div>\n",
       "<style scoped>\n",
       "    .dataframe tbody tr th:only-of-type {\n",
       "        vertical-align: middle;\n",
       "    }\n",
       "\n",
       "    .dataframe tbody tr th {\n",
       "        vertical-align: top;\n",
       "    }\n",
       "\n",
       "    .dataframe thead th {\n",
       "        text-align: right;\n",
       "    }\n",
       "</style>\n",
       "<table border=\"1\" class=\"dataframe\">\n",
       "  <thead>\n",
       "    <tr style=\"text-align: right;\">\n",
       "      <th></th>\n",
       "      <th>p1 (%)</th>\n",
       "      <th>p2 (%)</th>\n",
       "      <th>Diff (%)</th>\n",
       "      <th>Credible Interval (%)</th>\n",
       "      <th>Null Hypothesis</th>\n",
       "    </tr>\n",
       "  </thead>\n",
       "  <tbody>\n",
       "    <tr>\n",
       "      <th>No-Taste/Smell</th>\n",
       "      <td>0.0812</td>\n",
       "      <td>0.0568</td>\n",
       "      <td>0.0243</td>\n",
       "      <td>(-0.0067, 0.0554)</td>\n",
       "      <td>not rejected</td>\n",
       "    </tr>\n",
       "    <tr>\n",
       "      <th>Fever</th>\n",
       "      <td>9.9028</td>\n",
       "      <td>0.5081</td>\n",
       "      <td>9.3947</td>\n",
       "      <td>(9.1613, 9.6281)</td>\n",
       "      <td>rejected</td>\n",
       "    </tr>\n",
       "    <tr>\n",
       "      <th>Headache</th>\n",
       "      <td>5.5788</td>\n",
       "      <td>1.053</td>\n",
       "      <td>4.5258</td>\n",
       "      <td>(4.3287, 4.7229)</td>\n",
       "      <td>rejected</td>\n",
       "    </tr>\n",
       "    <tr>\n",
       "      <th>Pneumonia</th>\n",
       "      <td>0.1332</td>\n",
       "      <td>0.1437</td>\n",
       "      <td>-0.0106</td>\n",
       "      <td>(-0.0557, 0.0345)</td>\n",
       "      <td>not rejected</td>\n",
       "    </tr>\n",
       "    <tr>\n",
       "      <th>Stomach</th>\n",
       "      <td>0.231</td>\n",
       "      <td>0.2574</td>\n",
       "      <td>-0.0264</td>\n",
       "      <td>(-0.0864, 0.0336)</td>\n",
       "      <td>not rejected</td>\n",
       "    </tr>\n",
       "    <tr>\n",
       "      <th>Myocarditis</th>\n",
       "      <td>0.2143</td>\n",
       "      <td>0.0468</td>\n",
       "      <td>0.1675</td>\n",
       "      <td>(0.1273, 0.2077)</td>\n",
       "      <td>rejected</td>\n",
       "    </tr>\n",
       "    <tr>\n",
       "      <th>Blood-Clots</th>\n",
       "      <td>0.2435</td>\n",
       "      <td>0.1103</td>\n",
       "      <td>0.1331</td>\n",
       "      <td>(0.0847, 0.1816)</td>\n",
       "      <td>rejected</td>\n",
       "    </tr>\n",
       "    <tr>\n",
       "      <th>Death</th>\n",
       "      <td>0.0354</td>\n",
       "      <td>0.0</td>\n",
       "      <td>0.0354</td>\n",
       "      <td>(0.0213, 0.0494)</td>\n",
       "      <td>rejected</td>\n",
       "    </tr>\n",
       "  </tbody>\n",
       "</table>\n",
       "</div>"
      ],
      "text/plain": [
       "                p1 (%)  p2 (%) Diff (%) Credible Interval (%) Null Hypothesis\n",
       "No-Taste/Smell  0.0812  0.0568   0.0243     (-0.0067, 0.0554)    not rejected\n",
       "Fever           9.9028  0.5081   9.3947      (9.1613, 9.6281)        rejected\n",
       "Headache        5.5788   1.053   4.5258      (4.3287, 4.7229)        rejected\n",
       "Pneumonia       0.1332  0.1437  -0.0106     (-0.0557, 0.0345)    not rejected\n",
       "Stomach          0.231  0.2574  -0.0264     (-0.0864, 0.0336)    not rejected\n",
       "Myocarditis     0.2143  0.0468   0.1675      (0.1273, 0.2077)        rejected\n",
       "Blood-Clots     0.2435  0.1103   0.1331      (0.0847, 0.1816)        rejected\n",
       "Death           0.0354     0.0   0.0354      (0.0213, 0.0494)        rejected"
      ]
     },
     "execution_count": 10,
     "metadata": {},
     "output_type": "execute_result"
    }
   ],
   "source": [
    "prior_probs= [np.sum(obs_data.iloc[:,i]) / len(obs_data) for i, key in enumerate(symptom_names)]\n",
    "pipe = Pipeline_observational(genome,symptoms.iloc[:,1],SVC(),obs_data)\n",
    "pipe.run_select_features()\n",
    "pipe.run_efficacy(vacced, un_vacced,prior_probs)\n",
    "pipe.side_effects(vacced_neg, un_vacced_neg, 2, 10)"
   ]
  },
  {
   "cell_type": "code",
   "execution_count": 11,
   "id": "97898024",
   "metadata": {
    "scrolled": true
   },
   "outputs": [
    {
     "ename": "NameError",
     "evalue": "name 'Pipeline_treatment' is not defined",
     "output_type": "error",
     "traceback": [
      "\u001b[0;31m---------------------------------------------------------------------------\u001b[0m",
      "\u001b[0;31mNameError\u001b[0m                                 Traceback (most recent call last)",
      "\u001b[0;32m/var/folders/xc/9tjchlhd1yn758nk26c1m1dc0000gn/T/ipykernel_32226/719706113.py\u001b[0m in \u001b[0;36m<module>\u001b[0;34m\u001b[0m\n\u001b[0;32m----> 1\u001b[0;31m \u001b[0mPipeline_treatment\u001b[0m\u001b[0;34m(\u001b[0m\u001b[0mtreat_data\u001b[0m\u001b[0;34m,\u001b[0m\u001b[0maction_data\u001b[0m\u001b[0;34m,\u001b[0m\u001b[0moutcome_data\u001b[0m\u001b[0;34m)\u001b[0m\u001b[0;34m\u001b[0m\u001b[0;34m\u001b[0m\u001b[0m\n\u001b[0m",
      "\u001b[0;31mNameError\u001b[0m: name 'Pipeline_treatment' is not defined"
     ]
    }
   ],
   "source": [
    "Pipeline_treatment(treat_data,action_data,outcome_data)"
   ]
  },
  {
   "cell_type": "markdown",
   "id": "694feda3",
   "metadata": {},
   "source": [
    "## Generating synthetic data"
   ]
  },
  {
   "cell_type": "code",
   "execution_count": 41,
   "id": "0a66ad42",
   "metadata": {},
   "outputs": [],
   "source": [
    "def generate_binary_data(num_features, N, correlation=[0.9, 0.5]):\n",
    "    data = np.random.choice(2, size=(N, num_features))\n",
    "    df = pd.DataFrame(data)\n",
    "    df[\"Target\"] = np.zeros(N).astype(int)\n",
    "    for i, cor in enumerate(correlation):\n",
    "        if i >= num_features:\n",
    "            break\n",
    "\n",
    "        df[\"Target\"] |= df.iloc[:, i] * np.random.choice(2, size=N, p=[(1-cor), cor])\n",
    "\n",
    "    return df.iloc[:, :num_features], df[\"Target\"]"
   ]
  },
  {
   "cell_type": "code",
   "execution_count": 54,
   "id": "ba1a363a",
   "metadata": {},
   "outputs": [],
   "source": [
    "def generate_genomes_symptoms(random_indecies):\n",
    "    cor = [0.001 for _ in range(128)]\n",
    "    for r in random_indecies:\n",
    "        cor[r] = 0.6\n",
    "    X,y = generate_binary_data(128,100_000, correlation=cor)\n",
    "    X.columns = [f'Gene_{i+1:03}' for i in range(128)]\n",
    "    y.columns = 'Covid-Positive'\n",
    "    return X,y   "
   ]
  },
  {
   "cell_type": "code",
   "execution_count": 55,
   "id": "7990bfac",
   "metadata": {},
   "outputs": [],
   "source": [
    "random_indecies = random.sample(range(128), 20)\n",
    "genomes,symptom = generate_genomes_symptoms(random_indecies)\n",
    "pipe = Pipeline_observational(genomes,symptom,SVC(),obs_data)\n",
    "pipe.run_select_features()"
   ]
  },
  {
   "cell_type": "code",
   "execution_count": 56,
   "id": "7359a0e0",
   "metadata": {},
   "outputs": [
    {
     "data": {
      "text/plain": [
       "[7,\n",
       " 32,\n",
       " 34,\n",
       " 39,\n",
       " 40,\n",
       " 43,\n",
       " 46,\n",
       " 49,\n",
       " 56,\n",
       " 64,\n",
       " 77,\n",
       " 79,\n",
       " 92,\n",
       " 97,\n",
       " 99,\n",
       " 105,\n",
       " 107,\n",
       " 110,\n",
       " 112,\n",
       " 124,\n",
       " 127]"
      ]
     },
     "execution_count": 56,
     "metadata": {},
     "output_type": "execute_result"
    }
   ],
   "source": [
    "pipe.best_features"
   ]
  },
  {
   "cell_type": "code",
   "execution_count": 57,
   "id": "bf509b3d",
   "metadata": {},
   "outputs": [
    {
     "name": "stdout",
     "output_type": "stream",
     "text": [
      "7\n",
      "43\n",
      "79\n"
     ]
    }
   ],
   "source": [
    "for p in pipe.best_features: \n",
    "    if p not in random_indecies:\n",
    "        print(p)"
   ]
  },
  {
   "cell_type": "code",
   "execution_count": null,
   "id": "d99bc955",
   "metadata": {},
   "outputs": [],
   "source": []
  },
  {
   "cell_type": "code",
   "execution_count": null,
   "id": "ae2ed3d4",
   "metadata": {},
   "outputs": [],
   "source": []
  },
  {
   "cell_type": "code",
   "execution_count": 253,
   "id": "4d2b3b22",
   "metadata": {},
   "outputs": [
    {
     "name": "stdout",
     "output_type": "stream",
     "text": [
      "Run nr: 0\n",
      "Run nr: 1\n",
      "Run nr: 2\n",
      "Run nr: 3\n",
      "Run nr: 4\n",
      "Run nr: 5\n",
      "Run nr: 6\n",
      "Run nr: 7\n",
      "Run nr: 8\n",
      "Run nr: 9\n"
     ]
    }
   ],
   "source": [
    "for i in range(10):\n",
    "    print(f'Run nr: {i}')\n",
    "    random_indecies = random.sample(range(128), 20)\n",
    "    genomes,symptom = generate_genomes_symptoms(random_indecies)\n",
    "    pipe = Pipeline_observational(genomes,symptom,SVC(),obs_data)\n",
    "    pipe.run_select_features()\n",
    "    \n",
    "    for i in pipe.best_features:\n",
    "        if i not in random_indecies:\n",
    "            print(f'{i}: fail')\n",
    "\n",
    "\n",
    "    #kjøre efficacy\n",
    "    #kjøre sideeffects"
   ]
  },
  {
   "cell_type": "markdown",
   "id": "b062e15a",
   "metadata": {},
   "source": [
    "## Testing the generate_vaccine"
   ]
  },
  {
   "cell_type": "code",
   "execution_count": 448,
   "id": "f4167abf",
   "metadata": {},
   "outputs": [],
   "source": [
    "def generate_vaccine_data(random_indecies):\n",
    "    cor = [0 for _ in range(10)]\n",
    "    for r in random_indecies:\n",
    "        cor[r] = 0.0\n",
    "    symp_generated,vac_generated = generate_binary_data(10,100_000, correlation=cor)\n",
    "    \n",
    "    \n",
    "    vaccines_generated = np.zeros([len(vac_generated),3])\n",
    "    for i,y in enumerate(vac_generated):\n",
    "        random_index = random.randint(0,2)\n",
    "        if vac_generated[i] == 1:\n",
    "            vaccines_generated[i][random_index] = 1\n",
    "    \n",
    "    #symp_generated.columns = ['Covid-Recovered', 'Covid-Positive', 'No-Taste/Smell', 'Fever', 'Headache', 'Pneumonia', 'Stomach', 'Myocarditis', 'Blood-Clots', 'Death']\n",
    "    #vaccines_generated = pd.DataFrame(vaccines_generated,columns = ['Vacc_1', 'Vacc_2', 'Vacc_3'])\n",
    "    \n",
    "    return symp_generated,vaccines_generated\n"
   ]
  },
  {
   "cell_type": "code",
   "execution_count": 450,
   "id": "335a4fd8",
   "metadata": {},
   "outputs": [
    {
     "name": "stdout",
     "output_type": "stream",
     "text": [
      "generated: 4.99158\n",
      "real: 0.4029940299402994\n"
     ]
    }
   ],
   "source": [
    "#denne funksjonen finner gjennomsnittet av antall 1-ere per per rad\n",
    "def find_mean_of_1s(symp_generated):\n",
    "    sum_rows = 0\n",
    "    for i in range(len(symp_generated.iloc[:,])):\n",
    "        sum_rows += np.sum(symp_generated.iloc[i,:])\n",
    "\n",
    "    return sum_rows/len(symp_generated.iloc[:,])\n",
    "    \n",
    "print(f'generated: {find_mean_of_1s(symp_generated)}')\n",
    "print(f'real: {find_mean_of_1s(symptoms)}')"
   ]
  },
  {
   "cell_type": "code",
   "execution_count": 506,
   "id": "62eb05bf",
   "metadata": {},
   "outputs": [
    {
     "data": {
      "text/plain": [
       "0.40119"
      ]
     },
     "execution_count": 506,
     "metadata": {},
     "output_type": "execute_result"
    }
   ],
   "source": [
    "sym_g = np.zeros([len(vaccines_generated),10])\n",
    "vac_g = np.zeros([len(vac_generated),3])\n",
    "\n",
    "for i,s in enumerate(sym_g):    \n",
    "    prob = random.uniform(0, 1)    \n",
    "    if prob > 0.6:\n",
    "        rand_ind = random.randint(0,9)\n",
    "        s[rand_ind] = 1\n",
    "    else:\n",
    "        rand_ind = random.randint(0,2)\n",
    "        vac_g[i][rand_ind] = 1\n",
    "\n",
    "vac_g = pd.DataFrame(vac_g,columns = ['Vacc_1', 'Vacc_2', 'Vacc_3'])\n",
    "sym_g = pd.DataFrame(sym_g,columns = ['Covid-Recovered', 'Covid-Positive', 'No-Taste/Smell', 'Fever', 'Headache', 'Pneumonia', 'Stomach', 'Myocarditis', 'Blood-Clots', 'Death'])\n",
    "find_mean_of_1s(sym_g)"
   ]
  },
  {
   "cell_type": "code",
   "execution_count": 531,
   "id": "1a67a61d",
   "metadata": {},
   "outputs": [],
   "source": [
    "symp_generated,vac_generated = generate_binary_data(1,100_000)\n",
    "\n",
    "\n",
    "vac_g = np.zeros([100_000,3])\n",
    "sym_g = np.zeros([100_000,10])\n",
    "for i,y in enumerate(vac_generated):\n",
    "    random_index = random.randint(0,2)\n",
    "    if vac_generated[i] == 1:\n",
    "        vac_g[i][random_index] = 1\n",
    "\n",
    "\n",
    "for i,row in symp_generated.iterrows():\n",
    "    random_index = random.randint(0,9)\n",
    "    if symp_generated.iloc[i,0] == 1:\n",
    "        sym_g[i][random_index] = 1\n",
    "        \n",
    "vac_g = pd.DataFrame(vac_g,columns = ['Vacc_1', 'Vacc_2', 'Vacc_3'])\n",
    "sym_g = pd.DataFrame(sym_g,columns = ['Covid-Recovered', 'Covid-Positive', 'No-Taste/Smell', 'Fever', 'Headache', 'Pneumonia', 'Stomach', 'Myocarditis', 'Blood-Clots', 'Death'])"
   ]
  },
  {
   "cell_type": "code",
   "execution_count": 532,
   "id": "b2bbdcfb",
   "metadata": {},
   "outputs": [],
   "source": [
    "vacced = sym_g[np.sum(vac_g.iloc[:,-3:], axis=1) == 1]\n",
    "un_vacced = sym_g[np.sum(vac_g.iloc[:,-3:], axis=1) == 0]\n",
    "prior_probs_generated = [np.sum(sym_g.iloc[:,i]) / len(sym_g) for i, key in enumerate(sym_g.columns)]"
   ]
  },
  {
   "cell_type": "code",
   "execution_count": 534,
   "id": "903052b4",
   "metadata": {},
   "outputs": [
    {
     "name": "stdout",
     "output_type": "stream",
     "text": [
      "v=0.0, n_v=0.0: Division by zero\n",
      "Covid-Positive : -1003.533 - (-1109.173, -910.154) - not rejected\n",
      "v=0.0, n_v=0.0: Division by zero\n",
      "v=0.0, n_v=0.0: Division by zero\n",
      "v=0.0, n_v=0.0: Division by zero\n",
      "v=0.0, n_v=0.0: Division by zero\n",
      "v=0.0, n_v=0.0: Division by zero\n",
      "v=0.0, n_v=0.0: Division by zero\n",
      "v=0.0, n_v=0.0: Division by zero\n",
      "v=0.0, n_v=0.0: Division by zero\n",
      "\n"
     ]
    }
   ],
   "source": [
    "pipe = Pipeline_observational(X,y,SVC(),obs_data)\n",
    "pipe.run_efficacy(vacced, un_vacced,prior_probs_generated)"
   ]
  },
  {
   "cell_type": "code",
   "execution_count": 537,
   "id": "0075aaa0",
   "metadata": {},
   "outputs": [],
   "source": [
    "symptoms = obs_data.iloc[:,0:10]\n",
    "age = obs_data.iloc[:,10]\n",
    "gender = obs_data.iloc[:,11]\n",
    "income = obs_data.iloc[:,12]\n",
    "genome = obs_data.iloc[:,13:141]\n",
    "comorbidities = obs_data.iloc[:,141:147]\n",
    "vaccination_status = np.array(obs_data.iloc[:,147:])\n",
    "\n",
    "vacced = obs_data[np.sum(obs_data.iloc[:,-3:], axis=1) == 1]\n",
    "vacced_neg = vacced[vacced.iloc[:,1]==0]\n",
    "vacced_pos = vacced[vacced.iloc[:,1]==1]\n",
    "\n",
    "un_vacced = obs_data[np.sum(obs_data.iloc[:,-3:], axis=1) == 0]\n",
    "un_vacced_neg = un_vacced[un_vacced.iloc[:,1]==0]\n",
    "un_vacced_pos = un_vacced[un_vacced.iloc[:,1]==1]\n",
    "\n",
    "symptom_names = ['Covid-Recovered', 'Covid-Positive', 'No-Taste/Smell', 'Fever', 'Headache', 'Pneumonia', 'Stomach', 'Myocarditis', 'Blood-Clots', 'Death']\n",
    "prior_probs= [np.sum(obs_data.iloc[:,i]) / len(obs_data) for i, key in enumerate(symptom_names)]"
   ]
  }
 ],
 "metadata": {
  "kernelspec": {
   "display_name": "Python 3 (ipykernel)",
   "language": "python",
   "name": "python3"
  },
  "language_info": {
   "codemirror_mode": {
    "name": "ipython",
    "version": 3
   },
   "file_extension": ".py",
   "mimetype": "text/x-python",
   "name": "python",
   "nbconvert_exporter": "python",
   "pygments_lexer": "ipython3",
   "version": "3.9.6"
  }
 },
 "nbformat": 4,
 "nbformat_minor": 5
}
