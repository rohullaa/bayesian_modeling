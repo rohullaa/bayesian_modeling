{
 "cells": [
  {
   "cell_type": "markdown",
   "id": "fc5a903e",
   "metadata": {},
   "source": [
    "# Project 1: Data analysis\n",
    "\n",
    "## 1a) Bayesian approch\n",
    "\n",
    "In order to predict the effect of genes on symptoms, we will use a simple Bayesian model. We consider these hypothesis:\n",
    "\n",
    "$$\\mu_0: P(symptoms|genes) = \\xi(symptoms)$$\n",
    "$$\\mu_1: P(symptoms|genes) \\neq \\xi(symptoms)$$\n",
    "\n",
    "In order words, does the genes have any effect on the symptoms or not? If it does, which genomes are the most relevant for the preventing the symptoms? \n",
    "\n",
    "We will model the hypothesis in the following way. Given the data, we try to estimate\n",
    "\n",
    "$$ P(\\mu | D) = \\frac{P_{\\mu} (D) \\cdot \\xi(\\mu)}{\\sum_{i=1} ^n P_{\\mu_i}(D) \\cdot \\xi(\\mu_i)} $$\n",
    "\n",
    "where $P_{\\mu} (D) = P(\\mu |D)$, $D = (x_t, y_t)_{t=1} ^T $, $x_t$ is the genomes, $y_t$ is the symptoms and $\\mu$ is one of the hypothesis. We assume that the different columns of the data are independent of each other. This gives us:\n",
    "$$ P_{\\mu}(D) = P(y_1,...,y_t \\cup x_1,...,x_t)$$\n",
    "$$ = P(y_t | x_1,...,x_t \\cup y_1,...y_{t-1})\\cdot \\cdot \\cdot P(y_1|x_1)$$\n",
    "$$ = \\prod_{i=1}^{t} P(y_i | x^i , y^{i-1}) $$\n",
    "\n",
    "We will further assume binary set for all columns in the data, e.g. $y_t \\in [0,1]$ for all $t \\in T$. This leads to following distributions:\n",
    "$$ y_t |x_t \\sim Bernoulli(\\theta)$$\n",
    "where \n",
    "$$ \\theta \\sim Beta(\\alpha, \\beta) $$\n",
    "\n",
    "With these assumptions, we can estimate the terms in the $P_{\\mu} (D)$ by \n",
    "$$ P(y_t | x^t , y^{t-1}) = \\int_{\\theta} P_{\\theta}(y_t|x_t) \\cdot \\xi(\\theta|x^{t-1},y^{t-1})$$\n",
    "\n",
    "Under the null hypothesis, this expression becomes\n",
    "$$ P(y_t | y^{t-1}) = \\int_{\\theta} P_{\\theta}(y_t) \\cdot \\xi(\\theta|y^{t-1}) = \\frac{\\alpha_t}{\\alpha_t + \\beta_t}$$\n",
    "\n",
    "The decision rule can be defined as\n",
    "\n",
    "$$ \\mu =   \\left\\{\n",
    "\\begin{array}{ll}\n",
    "      \\mu_1 & P(y_t|x_t) > s \\\\\n",
    "      \\mu_0 & else\n",
    "\\end{array} \n",
    "\\right.  $$\n",
    "\n",
    "where $s$ is a given threshold."
   ]
  },
  {
   "cell_type": "markdown",
   "id": "3910406e",
   "metadata": {},
   "source": [
    "# Project 1: Data analysis\n",
    "\n",
    "## 1a) Bayesian approch\n",
    "\n",
    "In order to predict the effect of genes on symptoms, we will use a simple Bayesian model. We consider these hypothesis:\n",
    "\n",
    "$$\\mu_0: P(symptoms|genes) = P(symptoms)$$\n",
    "$$\\mu_1: P(symptoms|genes) \\neq P(symptoms)$$\n",
    "\n",
    "In order words, does the genes have any effect on the symptoms or not? If it does, which genomes are the most relevant for the preventing the symptoms? \n",
    "\n",
    "\n",
    "In our case our Y is the symptoms and our X is the genes. Y is an 8 bit vector for each observation,with 1 or zero for each bit. X is an 128 with the same charectaristic as Y.\n",
    "\n",
    "\n",
    "The probability distribution of $ Y $ depends on an unknown parameter which also is stocastic. In this case the unknown parameter is $\\theta$ or $ p $. \n",
    "\n",
    "The formulation under is an alternative formulation of the the previous hypotesis.Does the parameter that the probability dist of Y depend on, depend on what the value of X is or not. $ \\mu_0 $ says that it does not.$\\mu_1 $ says it does.\n",
    " \n",
    "$$\\mu_0: \\theta^0 \\sim Beta(\\alpha^0 , \\beta^0) ,  \\ \\ \\  Y/ \\theta^0  $$\n",
    "$$\\mu_1: \\theta^{1,x_t} \\sim Beta(\\alpha^{1,x_t} , \\beta^{1,x_t}) , \\ \\ \\ y_t/x_t \\sim bernulli(\\theta^{1,x_t}) $$\n",
    " \n",
    "\n",
    "We will model the hypothesis in the following way. Given the data, we try to estimate\n",
    "\n",
    "$$ P(\\mu | D) = \\frac{P_{\\mu} (D) \\cdot \\xi(\\mu)}{\\sum_{i=1} ^n P_{\\mu_1}(D) \\cdot \\xi(\\mu_1)} $$\n",
    "\n",
    "We can eather set $P(\\mu | D)$ to mean $P(\\mu_1 | D)$ or  $P(\\mu_0 | D)$ depending on which hypothesis we want to check the posterior belief of. \n",
    "\n",
    "where $P_{\\mu} (D) = P(\\mu |D)$, $D = (x_t, y_t,x_{t-1},y_{t-1})_{t=1} ^T $ for a spesific gene, $x_t$ is the value of the gene for observation t ,$x_{t-1}$ is a vector of all the previous  values of the previous observation up to t-1,  $y_t$ is the the value of symptom Y for observation t,$y_{t-1}$ is a vector of all the previous  values of the previous symtoms observation up to t-1 and $\\mu$ is one of the hypothesis in the set {$\\mu_1$,$\\mu_0$}.  We assume that the different observations(rows) of the data are independent of each other. This gives us:\n",
    "$$ P_{\\mu}(D) = P(y_1,...,y_t \\cup x_1,...,x_t)$$\n",
    "\n",
    "$$ = \\prod_{i=1}^{t} P(y_i | x_i,x_{i-1} , y_{i-1}) $$\n",
    "\n",
    "\n",
    "With these assumptions, we can estimate the terms in the $P_{\\mu} (D)$ by \n",
    "$$ P(y_t | x_t,x_{t-1} , y_{t-1}) = \\int_{\\theta} P_{\\theta}(y_t|x_t) \\cdot \\xi(\\theta|x_{t-1},y_{t-1})$$\n",
    "\n",
    "We calculate the likehood of adding a new observation(row) using this formula.It works if we assume that the the next observation is independent from the previous observations.\n",
    "\n",
    "\n",
    "This is the marginal likelihood(posterior predictive distribution) which is a compound distribution,which is used to calculate $P(y_t | x_{t},x_{t-1}, y_{t-1})$. The probabilty $P(y_t | x_{t})$ is stocatic in $\\theta$,so we have to integrate over all values of $\\theta$. Every time a new observation is added we calculate $P(y_t | x_{t},x_{t-1}, y_{t-1})$,and recalculate $$ = \\prod_{i=1}^{t} P(y_i | x_i ,x_{i-1}, y_{i-1}) $$. \n",
    "\n",
    "So to calculate $$ P(\\mu | D) = \\frac{P_{\\mu} (D) \\cdot \\xi(\\mu)}{\\sum_{i=1} ^n P_{\\mu_i}(D) \\cdot \\xi(\\mu_i)} $$,we are updating our belief,every time a new observation is added,sequentially. For every update $\\xi(\\mu)$ is $P(\\mu | D)$ from the previous iteration,exept the first iteration where $\\xi(\\mu)$ cancels out because it's constant.\n",
    "\n",
    "This integral simplifies to:\n",
    "\n",
    "$$ P(y_t | x_{t},x_{t-1},y^{t-1}) = \\int_{\\theta} P_{\\theta}(y_t) \\cdot d \\xi(\\theta|y^{t-1}) = \\frac{\\alpha_{t,x_t}}{\\alpha_{t,x_t} + \\beta_{t,x_t}}$$\n",
    "\n",
    "\n",
    "Looking at $\\mu_1$ we are using the beta-binomial distribution.Its a binomial distribution where  the probability of success at each of n trials is not fixed but comes from a beta distribution. The bernulli distribtuion is a special case of the binomial distribution,where number of trials is equal to 1.\n",
    "\n",
    "We are doing this because our y's are either 1 or 0.Then it is reasonable to assume that Y/X is bernulli distributed.\n",
    "\n",
    "It is also conviniant because of its conjugate prior property.Now we can calculate  $P( D/\\mu_1) =\\prod_{i=1}^{t} P(y_i | x^i ,x^{i-1}, y^{i-1}) $ beacuse we know that the marginal likelihood (posterior predictive dist) is composed of a binomial dist times a beta dist $ P(y_t | x^t , y^{t-1}) = \\int_{\\theta} P_{\\theta}(y_t|x_t) \\cdot \\xi(\\theta|x^{t-1},y^{t-1})$,which is beta distributed .For each iteration we end up  getting that $P_{\\mu} (D)$ is beta distributed.\n",
    "\n",
    "The same integral calculation is done for $P(D | \\mu_0)$ but now the marginal likelihood is independent of the data.\n",
    "\n",
    "Instead of calculating $P(  D|\\mu_1) =\\prod_{i=1}^{t} P(y_i | x_i ,x_{i-1}, y_{i-1})$ ,we can first calculate $log(P(  D|\\mu_1))$ and then do $e^{log(P(  D|\\mu_1))}$,same for $P(D | \\mu_0)$.\n",
    "\n",
    "To summarize.We have a set of hypotesis in this case two.We want to find how accurate they are. So we have a prior beleif on the strenght of the hypothses which we express through a probability, and we want to update our belief on the strenght of the hypotesis(posterior belief). In other word what is the probability of the choosen hypotesis given the data.Ony have to compute one of the probabilities because $P(\\mu_1 | D)=1-P(\\mu_0 | D)$.\n",
    "\n",
    "The calculation is done sequentially.For each iteration we get a new data observation.A new row of genes.We continously update the posterior belief,for all genes,and put the posterior belief of each gene into a list. The belief get updated through calculating the marginal likelihood every time a new row is added and a product is taken between this marginal likelihood and all the presious marginal likelihood calculations bought for $P(  D|\\mu_1)$ and for$P(  D|\\mu_0)$ this is then put into the bayes formula $ P(\\mu | D) = \\frac{P_{\\mu} (D) \\cdot \\xi(\\mu)}{\\sum_{i=1} ^n P_{\\mu_i}(D) \\cdot \\xi(\\mu_i)} $.\n",
    "\n",
    "We want to find this probability for for each of the genes.This procedure is done for each gene.For each gene if the posterior probabilty is greater then some trechhold we add this gene to the list of important genes that are relvant for explaining that spesific symptom.\n",
    " \n",
    "\n",
    "\n",
    "\n",
    "The decision rule can be defined as\n",
    "\n",
    "$$ \\mu =   \\left\\{\n",
    "\\begin{array}{ll}\n",
    "      \\mu_1 & P(\\mu_1|D) > s \\\\\n",
    "      \\mu_0 & else\n",
    "\\end{array} \n",
    "\\right.  $$\n",
    "\n",
    "where $s$ is a given threshold."
   ]
  },
  {
   "cell_type": "code",
   "execution_count": 269,
   "id": "3898c26d",
   "metadata": {},
   "outputs": [],
   "source": [
    "import pandas as pd\n",
    "import numpy as np\n",
    "import matplotlib.pyplot as plt\n",
    "from scipy import stats"
   ]
  },
  {
   "cell_type": "code",
   "execution_count": 270,
   "id": "9a0c4ced",
   "metadata": {},
   "outputs": [],
   "source": [
    "obs_data = pd.read_csv(\"observation_features.csv\")\n",
    "treat_data = pd.read_csv(\"treatment_features.csv\") \n",
    "action_data = pd.read_csv(\"treatment_actions.csv\")\n",
    "outcome_data = pd.read_csv(\"treatment_outcomes.csv\")"
   ]
  },
  {
   "cell_type": "code",
   "execution_count": 271,
   "id": "30554e9e",
   "metadata": {},
   "outputs": [],
   "source": [
    "symptoms = np.array(obs_data.iloc[:,0:10])\n",
    "age = obs_data.iloc[:,10]\n",
    "gender = obs_data.iloc[:,11]\n",
    "income = obs_data.iloc[:,12]\n",
    "genome = obs_data.iloc[:,13:141]\n",
    "comorbidities = obs_data.iloc[:,141:147]\n",
    "vaccination_status = np.array(obs_data.iloc[:,147:])"
   ]
  },
  {
   "cell_type": "code",
   "execution_count": 303,
   "id": "c948d363",
   "metadata": {},
   "outputs": [],
   "source": [
    "def select_features(X, Y, threshold):\n",
    "    n_features = X.shape[1]\n",
    "    n_data =  X.shape[0]\n",
    "    alpha_b = np.ones([n_features, 2 ])\n",
    "    beta_b = np.ones([n_features, 2])\n",
    "    log_p = np.zeros(n_features)\n",
    "    \n",
    "    log_null = 0\n",
    "    alpha = 1\n",
    "    beta = 1  \n",
    "    for t in range(n_data):\n",
    "        p_null = alpha / (alpha + beta)\n",
    "        log_null += np.log(p_null)*Y[t] + np.log(1-p_null)*(1 - Y[t])\n",
    "        alpha += Y[t]\n",
    "        beta += (1 - Y[t])\n",
    "        for i in range(n_features):\n",
    "            \n",
    "                x_ti = int(X[t,i])\n",
    "                p = alpha_b[i, x_ti] / (alpha_b[i, x_ti] + beta_b[i, x_ti])\n",
    "                log_p[i] += np.log(p)*Y[t] + np.log(1-p)*(1 - Y[t])\n",
    "                alpha_b[i, x_ti] += Y[t]\n",
    "                beta_b[i, x_ti] += (1 - Y[t])\n",
    "    log_max=np.mean(log_p)\n",
    "    log_max2=np.mean(log_null)\n",
    "    log_p=log_p-log_max\n",
    "    log_null=log_null-log_max2\n",
    "    p = np.exp(log_p) / (np.exp(log_p) + np.exp(log_null))\n",
    "    #print((np.exp(log_p) + np.exp(log_null)))\n",
    "\n",
    "    features = []\n",
    "    for i in range(n_features):\n",
    "        if p[i] > threshold:\n",
    "            features.append(i)\n",
    "    print(alpha)\n",
    "    print(beta)\n",
    "    return features"
   ]
  },
  {
   "cell_type": "code",
   "execution_count": 304,
   "id": "bfcd88f2",
   "metadata": {},
   "outputs": [
    {
     "name": "stdout",
     "output_type": "stream",
     "text": [
      "22029.0\n",
      "77972.0\n"
     ]
    }
   ],
   "source": [
    "select_0 = select_features(X,Y[:,1],0.8)"
   ]
  },
  {
   "cell_type": "code",
   "execution_count": 305,
   "id": "247ffead",
   "metadata": {},
   "outputs": [
    {
     "data": {
      "text/plain": [
       "[3,\n",
       " 14,\n",
       " 17,\n",
       " 26,\n",
       " 27,\n",
       " 30,\n",
       " 37,\n",
       " 38,\n",
       " 39,\n",
       " 40,\n",
       " 41,\n",
       " 45,\n",
       " 48,\n",
       " 57,\n",
       " 65,\n",
       " 67,\n",
       " 68,\n",
       " 72,\n",
       " 85,\n",
       " 89,\n",
       " 90,\n",
       " 100,\n",
       " 105,\n",
       " 111,\n",
       " 120,\n",
       " 121,\n",
       " 123,\n",
       " 126]"
      ]
     },
     "execution_count": 305,
     "metadata": {},
     "output_type": "execute_result"
    }
   ],
   "source": [
    "select_0"
   ]
  },
  {
   "cell_type": "markdown",
   "id": "6bf92a54",
   "metadata": {},
   "source": [
    "## 1b) Estimating the efficacy of vaccines\n",
    "\n",
    "We estimate the efficacy of the vaccines by\n",
    "$$ 100 \\cdot (1-IRR)$$\n",
    "where IRR is the ratio of the vaccinated incidence rate and not vaccinated incidence incidenes (link).\n"
   ]
  },
  {
   "cell_type": "code",
   "execution_count": 312,
   "id": "1075a247",
   "metadata": {},
   "outputs": [
    {
     "name": "stdout",
     "output_type": "stream",
     "text": [
      "Efficacy of the vaccinated:\n",
      "Covid-Recovered: 28.965 - (20.076, 36.886)\n",
      "Covid-Positive : 21.464 - (19.610, 23.276)\n",
      "No-Taste/Smell : 47.521 - (41.631, 52.831)\n",
      "Fever          : 51.575 - (44.977, 57.483)\n",
      "Headache       : 45.473 - (28.962, 58.341)\n",
      "Pneumonia      : 57.810 - (51.525, 63.367)\n",
      "Stomach        : 50.542 - (25.750, 67.374)\n",
      "Myocarditis    : 44.531 - (28.392, 57.122)\n",
      "Blood-Clots    : 57.190 - (50.874, 62.752)\n",
      "Death          : 93.394 - (90.540, 95.673)\n"
     ]
    }
   ],
   "source": [
    "#samples with vaccinations or not:\n",
    "not_vaccinated = [i for i in range(len(vaccination_status)) if all(v==0 for v in vaccination_status[i])]\n",
    "vaccinated = [i for i in range(len(vaccination_status)) if any(v !=0 for v in vaccination_status[i])]\n",
    "symptom_names = ['Covid-Recovered', 'Covid-Positive', 'No-Taste/Smell', 'Fever', 'Headache', 'Pneumonia', 'Stomach', 'Myocarditis', 'Blood-Clots', 'Death']\n",
    "prior_probs= {key:np.sum(obs_data.iloc[:,i]) / len(obs_data) for i, key in enumerate(symptom_names)}\n",
    "\n",
    "def count_status(vac_list, symptom_name):\n",
    "    index = symptom_names.index(symptom_name)\n",
    "    vacc_pos = 0\n",
    "    for i in vac_list:\n",
    "        if symptoms[i][1] == 1 and symptoms[i][index] == 1: \n",
    "            vacc_pos += 1\n",
    "    return vacc_pos\n",
    "\n",
    "def find_alpha(beta,p):\n",
    "    return beta*p/(1-p)\n",
    "    \n",
    "\n",
    "def find_efficacy(vaccinated,symptom_name):\n",
    "    vacc_pos = count_status(vaccinated,symptom_name)\n",
    "    not_pos = count_status(not_vaccinated,symptom_name)\n",
    "\n",
    "    v = vacc_pos/len(vaccinated)\n",
    "    n_v = not_pos/len(not_vaccinated)\n",
    "    IRR = v/n_v\n",
    "    \n",
    "    efficacy = 100*(1- IRR)\n",
    "    \n",
    "    N = len(obs_data)\n",
    "    beta = 1\n",
    "    p = prior_probs[symptom_name]\n",
    "    alpha = find_alpha(beta,p)\n",
    "    \n",
    "    samples_vaccine = stats.beta.rvs(alpha + vacc_pos, beta + len(vaccinated) - vacc_pos, size=N)\n",
    "    samples_no_vaccine = stats.beta.rvs(alpha + not_pos, beta + len(not_vaccinated) - not_pos, size=N)\n",
    "    \n",
    "    samples_ve = 100 * (1 - samples_vaccine/samples_no_vaccine)\n",
    "    lower = np.percentile(samples_ve, 2.5)\n",
    "    upper = np.percentile(samples_ve, 97.5)\n",
    "    print(f'{symptom_name:15s}: {efficacy:3.3f} - ({lower:3.3f}, {upper:3.3f})')    \n",
    "\n",
    "print(\"Efficacy of the vaccinated:\")\n",
    "for s in symptom_names:\n",
    "    find_efficacy(vaccinated,s)"
   ]
  },
  {
   "cell_type": "code",
   "execution_count": 313,
   "id": "d81522ec",
   "metadata": {},
   "outputs": [
    {
     "name": "stdout",
     "output_type": "stream",
     "text": [
      "type 1\n",
      "Covid-Recovered: 19.633 - (6.038, 31.687)\n",
      "Covid-Positive : 11.296 - (8.524, 13.993)\n",
      "No-Taste/Smell : 34.419 - (24.430, 43.343)\n",
      "Fever          : 43.590 - (32.863, 53.047)\n",
      "Headache       : 30.767 - (2.872, 52.236)\n",
      "Pneumonia      : 54.129 - (44.247, 62.797)\n",
      "Stomach        : 28.704 - (-16.750, 59.398)\n",
      "Myocarditis    : 36.093 - (10.491, 55.923)\n",
      "Blood-Clots    : 48.746 - (38.190, 57.987)\n",
      "Death          : 95.704 - (91.566, 98.420)\n",
      "\n",
      "type 2\n",
      "Covid-Recovered: 28.837 - (16.350, 39.846)\n",
      "Covid-Positive : 20.584 - (17.978, 23.130)\n",
      "No-Taste/Smell : 43.109 - (34.036, 51.160)\n",
      "Fever          : 45.703 - (35.166, 54.816)\n",
      "Headache       : 39.907 - (14.273, 59.400)\n",
      "Pneumonia      : 48.345 - (37.778, 57.570)\n",
      "Stomach        : 70.324 - (42.345, 87.539)\n",
      "Myocarditis    : 35.284 - (9.770, 55.149)\n",
      "Blood-Clots    : 47.762 - (37.122, 57.106)\n",
      "Death          : 92.922 - (87.743, 96.654)\n",
      "\n",
      "type 3\n",
      "Covid-Recovered: 38.211 - (26.785, 48.236)\n",
      "Covid-Positive : 32.271 - (29.894, 34.585)\n",
      "No-Taste/Smell : 64.686 - (57.854, 70.781)\n",
      "Fever          : 65.183 - (57.106, 72.200)\n",
      "Headache       : 65.346 - (46.683, 79.127)\n",
      "Pneumonia      : 70.765 - (63.167, 77.321)\n",
      "Stomach        : 52.328 - (16.705, 75.742)\n",
      "Myocarditis    : 61.919 - (43.347, 76.089)\n",
      "Blood-Clots    : 74.762 - (67.697, 80.787)\n",
      "Death          : 91.603 - (86.017, 95.701)\n",
      "\n"
     ]
    }
   ],
   "source": [
    "vacc_type1 = [i for i in range(len(vaccination_status)) if vaccination_status[i][0] == 1]\n",
    "vacc_type2 = [i for i in range(len(vaccination_status)) if vaccination_status[i][1] == 1]\n",
    "vacc_type3 = [i for i in range(len(vaccination_status)) if vaccination_status[i][2] == 1]\n",
    "vaccination_types = [vacc_type1,vacc_type2,vacc_type3]\n",
    "vaccination_names = ['type 1', 'type 2', 'type 3']\n",
    "\n",
    "for name in vaccination_names:\n",
    "    print(name)\n",
    "    index = vaccination_names.index(name)\n",
    "    for s in symptom_names:\n",
    "        find_efficacy(vaccination_types[index],s)\n",
    "    print(\"\")"
   ]
  },
  {
   "cell_type": "markdown",
   "id": "4806f3df",
   "metadata": {},
   "source": [
    "## Logistic Regression coefficient with Lasso"
   ]
  },
  {
   "cell_type": "markdown",
   "id": "621bfd74",
   "metadata": {},
   "source": [
    "Lasso regression is a linear model that uses this cost function:\n",
    "\n",
    "$$\\frac{1}{2N} \\sum_{i=1}^{N} (y_{pred}^{(i)} - y_{real}^{(i)} )^2 + \\alpha \\sum_{j=1}^n |a_j| $$\n",
    "\n",
    "By trying to minimize the cost function, Lasso regression will automatically select those features that are useful, discarding the useless or redundant features. \n",
    "So, the idea of using Lasso regression for feature selection purposes is very simple: we fit a Lasso regression on a scaled version of our dataset and we consider only those features that have a coefficient different from 0. Obviously, we first need to tune α hyperparameter in order to have the right kind of Lasso regression."
   ]
  },
  {
   "cell_type": "code",
   "execution_count": 24,
   "id": "980ed260",
   "metadata": {},
   "outputs": [],
   "source": [
    "import numpy as np\n",
    "from sklearn.preprocessing import StandardScaler\n",
    "from sklearn.pipeline import Pipeline\n",
    "from sklearn.model_selection import train_test_split, GridSearchCV\n",
    "from sklearn.linear_model import Lasso\n",
    "from sklearn.linear_model import LinearRegression\n",
    "from sklearn.linear_model import LogisticRegression\n",
    "from sklearn.feature_selection import SelectFromModel\n",
    "from sklearn.datasets import make_classification"
   ]
  },
  {
   "cell_type": "code",
   "execution_count": 122,
   "id": "62584ee5",
   "metadata": {},
   "outputs": [],
   "source": [
    "#splitting the data:\n",
    "X_train, X_test, Y_train, Y_test = train_test_split(X, Y[:,1], test_size=0.33, random_state=42)"
   ]
  },
  {
   "cell_type": "code",
   "execution_count": 128,
   "id": "7e714cf0",
   "metadata": {},
   "outputs": [
    {
     "data": {
      "text/plain": [
       "SelectFromModel(estimator=LogisticRegression(C=0.1, penalty='l1',\n",
       "                                             solver='liblinear'))"
      ]
     },
     "execution_count": 128,
     "metadata": {},
     "output_type": "execute_result"
    }
   ],
   "source": [
    "sel = SelectFromModel(LogisticRegression(penalty='l1',C=0.1,solver='liblinear'))\n",
    "sel.fit(X_train,Y_train)"
   ]
  },
  {
   "cell_type": "code",
   "execution_count": 129,
   "id": "f4f711b8",
   "metadata": {},
   "outputs": [
    {
     "data": {
      "text/plain": [
       "118"
      ]
     },
     "execution_count": 129,
     "metadata": {},
     "output_type": "execute_result"
    }
   ],
   "source": [
    "X_train_L1 = sel.transform(X_train)\n",
    "len(X_train_L1[0])"
   ]
  }
 ],
 "metadata": {
  "kernelspec": {
   "display_name": "Python 3 (ipykernel)",
   "language": "python",
   "name": "python3"
  },
  "language_info": {
   "codemirror_mode": {
    "name": "ipython",
    "version": 3
   },
   "file_extension": ".py",
   "mimetype": "text/x-python",
   "name": "python",
   "nbconvert_exporter": "python",
   "pygments_lexer": "ipython3",
   "version": "3.9.6"
  }
 },
 "nbformat": 4,
 "nbformat_minor": 5
}
