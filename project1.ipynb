{
 "cells": [
  {
   "cell_type": "markdown",
   "id": "fc5a903e",
   "metadata": {},
   "source": [
    "# Project 1: Data analysis\n",
    "\n",
    "## 1a) Bayesian approch\n",
    "\n",
    "In order to predict the effect of genes on symptoms, we will use a simple Bayesian model. We consider these hypothesis:\n",
    "\n",
    "$$\\mu_0: P(symptoms|genes) = \\xi(symptoms)$$\n",
    "$$\\mu_1: P(symptoms|genes) \\neq \\xi(symptoms)$$\n",
    "\n",
    "In order words, does the genes have any effect on the symptoms or not? If it does, which genomes are the most relevant for the preventing the symptoms? \n",
    "\n",
    "We will model the hypothesis in the following way. Given the data, we try to estimate\n",
    "\n",
    "$$ P(\\mu | D) = \\frac{P_{\\mu} (D) \\cdot \\xi(\\mu)}{\\sum_{i=1} ^n P_{\\mu_i}(D) \\cdot \\xi(\\mu_i)} $$\n",
    "\n",
    "where $P_{\\mu} (D) = P(\\mu |D)$, $D = (x_t, y_t)_{t=1} ^T $, $x_t$ is the genomes, $y_t$ is the symptoms and $\\mu$ is one of the hypothesis. We assume that the different columns of the data are independent of each other. This gives us:\n",
    "$$ P_{\\mu}(D) = P(y_1,...,y_t \\cup x_1,...,x_t)$$\n",
    "$$ = P(y_t | x_1,...,x_t \\cup y_1,...y_{t-1})\\cdot \\cdot \\cdot P(y_1|x_1)$$\n",
    "$$ = \\prod_{i=1}^{t} P(y_i | x^i , y^{i-1}) $$\n",
    "\n",
    "We will further assume binary set for all columns in the data, e.g. $y_t \\in [0,1]$ for all $t \\in T$. This leads to following distributions:\n",
    "$$ y_t |x_t \\sim Bernoulli(\\theta)$$\n",
    "where \n",
    "$$ \\theta \\sim Beta(\\alpha, \\beta) $$\n",
    "\n",
    "With these assumptions, we can estimate the terms in the $P_{\\mu} (D)$ by \n",
    "$$ P(y_t | x^t , y^{t-1}) = \\int_{\\theta} P_{\\theta}(y_t|x_t) \\cdot \\xi(\\theta|x^{t-1},y^{t-1})$$\n",
    "\n",
    "Under the null hypothesis, this expression becomes\n",
    "$$ P(y_t | y^{t-1}) = \\int_{\\theta} P_{\\theta}(y_t) \\cdot \\xi(\\theta|y^{t-1}) = \\frac{\\alpha_t}{\\alpha_t + \\beta_t}$$\n",
    "\n",
    "The decision rule can be defined as\n",
    "\n",
    "$$ \\mu =   \\left\\{\n",
    "\\begin{array}{ll}\n",
    "      \\mu_1 & P(y_t|x_t) > s \\\\\n",
    "      \\mu_0 & else\n",
    "\\end{array} \n",
    "\\right.  $$\n",
    "\n",
    "where $s$ is a given threshold."
   ]
  },
  {
   "cell_type": "markdown",
   "id": "5ddc3460",
   "metadata": {},
   "source": [
    "# Project 1: Data analysis\n",
    "\n",
    "## 1a) Bayesian approch\n",
    "\n",
    "In order to predict the effect of genes on symptoms, we will use a simple Bayesian model. We consider these hypothesis:\n",
    "\n",
    "$$\\mu_0: P(symptoms|genes) = P(symptoms)$$\n",
    "$$\\mu_1: P(symptoms|genes) \\neq P(symptoms)$$\n",
    "\n",
    "In order words, does the genes have any effect on the symptoms or not? If it does, which genomes are the most relevant for the preventing the symptoms? \n",
    "\n",
    "\n",
    "In our case our Y is the symptoms and our X is the genes. Y is an 8 bit vector for each observation,with 1 or zero for each bit. X is an 128 with the same charectaristic as Y.\n",
    "\n",
    "\n",
    "The probability distribution of $ Y $ depends on an unknown parameter which also is stocastic. In this case the unknown parameter is $\\theta$ or $ p $. \n",
    "\n",
    "The formulation under is an alternative formulation of the the previous hypotesis.Does the parameter that the probability dist of Y depend on, depend on what the value of X is or not. $ \\mu_0 $ says that it does not.$\\mu_1 $ says it does.\n",
    " \n",
    "$$\\mu_0: \\theta^0 \\sim Beta(\\alpha^0 , \\beta^0) ,  \\ \\ \\  Y/ \\theta^0  $$\n",
    "$$\\mu_1: \\theta^{1,x_t} \\sim Beta(\\alpha^{1,x_t} , \\beta^{1,x_t}) , \\ \\ \\ y_t/x_t \\sim bernulli(\\theta^{1,x_t}) $$\n",
    " \n",
    "\n",
    "We will model the hypothesis in the following way. Given the data, we try to estimate\n",
    "\n",
    "$$ P(\\mu | D) = \\frac{P_{\\mu} (D) \\cdot \\xi(\\mu)}{\\sum_{i=1} ^n P_{\\mu_1}(D) \\cdot \\xi(\\mu_1)} $$\n",
    "\n",
    "We can eather set $P(\\mu | D)$ to mean $P(\\mu_1 | D)$ or  $P(\\mu_0 | D)$ depending on which hypothesis we want to check the posterior belief of. \n",
    "\n",
    "where $P_{\\mu} (D) = P(\\mu |D)$, $D = (x_t, y_t,x_{t-1},y_{t-1})_{t=1} ^T $ for a spesific gene, $x_t$ is the value of the gene for observation t ,$x_{t-1}$ is a vector of all the previous  values of the previous observation up to t-1,  $y_t$ is the the value of symptom Y for observation t,$y_{t-1}$ is a vector of all the previous  values of the previous symtoms observation up to t-1 and $\\mu$ is one of the hypothesis in the set {$\\mu_1$,$\\mu_0$}.  We assume that the different observations(rows) of the data are independent of each other. This gives us:\n",
    "$$ P_{\\mu}(D) = P(y_1,...,y_t \\cup x_1,...,x_t)$$\n",
    "\n",
    "$$ = \\prod_{i=1}^{t} P(y_i | x_i,x_{i-1} , y_{i-1}) $$\n",
    "\n",
    "\n",
    "With these assumptions, we can estimate the terms in the $P_{\\mu} (D)$ by \n",
    "$$ P(y_t | x_t,x_{t-1} , y_{t-1}) = \\int_{\\theta} P_{\\theta}(y_t|x_t) \\cdot \\xi(\\theta|x_{t-1},y_{t-1})$$\n",
    "\n",
    "We calculate the likehood of adding a new observation(row) using this formula.It works if we assume that the the next observation is independent from the previous observations.\n",
    "\n",
    "\n",
    "This is the marginal likelihood(posterior predictive distribution) which is a compound distribution,which is used to calculate $P(y_t | x_{t},x_{t-1}, y_{t-1})$. The probabilty $P(y_t | x_{t})$ is stocatic in $\\theta$,so we have to integrate over all values of $\\theta$. Every time a new observation is added we calculate $P(y_t | x_{t},x_{t-1}, y_{t-1})$,and recalculate $$ = \\prod_{i=1}^{t} P(y_i | x_i ,x_{i-1}, y_{i-1}) $$. \n",
    "\n",
    "So to calculate $$ P(\\mu | D) = \\frac{P_{\\mu} (D) \\cdot \\xi(\\mu)}{\\sum_{i=1} ^n P_{\\mu_i}(D) \\cdot \\xi(\\mu_i)} $$,we are updating our belief,every time a new observation is added,sequentially. For every update $\\xi(\\mu)$ is $P(\\mu | D)$ from the previous iteration,exept the first iteration where $\\xi(\\mu)$ cancels out because it's constant.\n",
    "\n",
    "This integral simplifies to:\n",
    "\n",
    "$$ P(y_t | x_{t},x_{t-1},y^{t-1}) = \\int_{\\theta} P_{\\theta}(y_t) \\cdot d \\xi(\\theta|y^{t-1}) = \\frac{\\alpha_{t,x_t}}{\\alpha_{t,x_t} + \\beta_{t,x_t}}$$\n",
    "\n",
    "\n",
    "Looking at $\\mu_1$ we are using the beta-binomial distribution.Its a binomial distribution where  the probability of success at each of n trials is not fixed but comes from a beta distribution. The bernulli distribtuion is a special case of the binomial distribution,where number of trials is equal to 1.\n",
    "\n",
    "We are doing this because our y's are either 1 or 0.Then it is reasonable to assume that Y/X is bernulli distributed.\n",
    "\n",
    "It is also conviniant because of its conjugate prior property.Now we can calculate  $P( D/\\mu_1) =\\prod_{i=1}^{t} P(y_i | x^i ,x^{i-1}, y^{i-1}) $ beacuse we know that the marginal likelihood (posterior predictive dist) is composed of a binomial dist times a beta dist $ P(y_t | x^t , y^{t-1}) = \\int_{\\theta} P_{\\theta}(y_t|x_t) \\cdot \\xi(\\theta|x^{t-1},y^{t-1})$,which is beta distributed .For each iteration we end up  getting that $P_{\\mu} (D)$ is beta distributed.\n",
    "\n",
    "The same integral calculation is done for $P(D | \\mu_0)$ but now the marginal likelihood is independent of the data.\n",
    "\n",
    "Instead of calculating $P(  D|\\mu_1) =\\prod_{i=1}^{t} P(y_i | x_i ,x_{i-1}, y_{i-1})$ ,we can first calculate $log(P(  D|\\mu_1))$ and then do $e^{log(P(  D|\\mu_1))}$,same for $P(D | \\mu_0)$.\n",
    "\n",
    "To summarize.We have a set of hypotesis in this case two.We want to find how accurate they are. So we have a prior beleif on the strenght of the hypothses which we express through a probability, and we want to update our belief on the strenght of the hypotesis(posterior belief). In other word what is the probability of the choosen hypotesis given the data.Ony have to compute one of the probabilities because $P(\\mu_1 | D)=1-P(\\mu_0 | D)$.\n",
    "\n",
    "The calculation is done sequentially.For each iteration we get a new data observation.A new row of genes.We continously update the posterior belief,for all genes,and put the posterior belief of each gene into a list. The belief get updated through calculating the marginal likelihood every time a new row is added and a product is taken between this marginal likelihood and all the presious marginal likelihood calculations bought for $P(  D|\\mu_1)$ and for$P(  D|\\mu_0)$ this is then put into the bayes formula $ P(\\mu | D) = \\frac{P_{\\mu} (D) \\cdot \\xi(\\mu)}{\\sum_{i=1} ^n P_{\\mu_i}(D) \\cdot \\xi(\\mu_i)} $.\n",
    "\n",
    "We want to find this probability for for each of the genes.This procedure is done for each gene.For each gene if the posterior probabilty is greater then some trechhold we add this gene to the list of important genes that are relvant for explaining that spesific symptom.\n",
    " \n",
    "\n",
    "\n",
    "\n",
    "The decision rule can be defined as\n",
    "\n",
    "$$ \\mu =   \\left\\{\n",
    "\\begin{array}{ll}\n",
    "      \\mu_1 & P(\\mu_1|D) > s \\\\\n",
    "      \\mu_0 & else\n",
    "\\end{array} \n",
    "\\right.  $$\n",
    "\n",
    "where $s$ is a given threshold."
   ]
  },
  {
   "cell_type": "code",
   "execution_count": 269,
   "id": "3898c26d",
   "metadata": {},
   "outputs": [],
   "source": [
    "import pandas as pd\n",
    "import numpy as np\n",
    "import matplotlib.pyplot as plt\n",
    "from scipy import stats"
   ]
  },
  {
   "cell_type": "code",
   "execution_count": 270,
   "id": "9a0c4ced",
   "metadata": {},
   "outputs": [],
   "source": [
    "obs_data = pd.read_csv(\"observation_features.csv\")\n",
    "treat_data = pd.read_csv(\"treatment_features.csv\") \n",
    "action_data = pd.read_csv(\"treatment_actions.csv\")\n",
    "outcome_data = pd.read_csv(\"treatment_outcomes.csv\")"
   ]
  },
  {
   "cell_type": "code",
   "execution_count": 271,
   "id": "30554e9e",
   "metadata": {},
   "outputs": [],
   "source": [
    "symptoms = np.array(obs_data.iloc[:,0:10])\n",
    "age = obs_data.iloc[:,10]\n",
    "gender = obs_data.iloc[:,11]\n",
    "income = obs_data.iloc[:,12]\n",
    "genome = obs_data.iloc[:,13:141]\n",
    "comorbidities = obs_data.iloc[:,141:147]\n",
    "vaccination_status = np.array(obs_data.iloc[:,147:])"
   ]
  },
  {
   "cell_type": "code",
   "execution_count": 303,
   "id": "c948d363",
   "metadata": {},
   "outputs": [],
   "source": [
    "def select_features(X, Y, threshold):\n",
    "    n_features = X.shape[1]\n",
    "    n_data =  X.shape[0]\n",
    "    alpha_b = np.ones([n_features, 2 ])\n",
    "    beta_b = np.ones([n_features, 2])\n",
    "    log_p = np.zeros(n_features)\n",
    "    \n",
    "    log_null = 0\n",
    "    alpha = 1\n",
    "    beta = 1  \n",
    "    for t in range(n_data):\n",
    "        p_null = alpha / (alpha + beta)\n",
    "        log_null += np.log(p_null)*Y[t] + np.log(1-p_null)*(1 - Y[t])\n",
    "        alpha += Y[t]\n",
    "        beta += (1 - Y[t])\n",
    "        for i in range(n_features):\n",
    "            \n",
    "                x_ti = int(X[t,i])\n",
    "                p = alpha_b[i, x_ti] / (alpha_b[i, x_ti] + beta_b[i, x_ti])\n",
    "                log_p[i] += np.log(p)*Y[t] + np.log(1-p)*(1 - Y[t])\n",
    "                alpha_b[i, x_ti] += Y[t]\n",
    "                beta_b[i, x_ti] += (1 - Y[t])\n",
    "    log_max=np.mean(log_p)\n",
    "    log_max2=np.mean(log_null)\n",
    "    log_p=log_p-log_max\n",
    "    log_null=log_null-log_max2\n",
    "    p = np.exp(log_p) / (np.exp(log_p) + np.exp(log_null))\n",
    "    #print((np.exp(log_p) + np.exp(log_null)))\n",
    "\n",
    "    features = []\n",
    "    for i in range(n_features):\n",
    "        if p[i] > threshold:\n",
    "            features.append(i)\n",
    "    print(alpha)\n",
    "    print(beta)\n",
    "    return features"
   ]
  },
  {
   "cell_type": "code",
   "execution_count": 304,
   "id": "bfcd88f2",
   "metadata": {},
   "outputs": [
    {
     "name": "stdout",
     "output_type": "stream",
     "text": [
      "22029.0\n",
      "77972.0\n"
     ]
    }
   ],
   "source": [
    "select_0 = select_features(X,Y[:,1],0.8)"
   ]
  },
  {
   "cell_type": "code",
   "execution_count": 305,
   "id": "2d0b6706",
   "metadata": {},
   "outputs": [
    {
     "data": {
      "text/plain": [
       "[3,\n",
       " 14,\n",
       " 17,\n",
       " 26,\n",
       " 27,\n",
       " 30,\n",
       " 37,\n",
       " 38,\n",
       " 39,\n",
       " 40,\n",
       " 41,\n",
       " 45,\n",
       " 48,\n",
       " 57,\n",
       " 65,\n",
       " 67,\n",
       " 68,\n",
       " 72,\n",
       " 85,\n",
       " 89,\n",
       " 90,\n",
       " 100,\n",
       " 105,\n",
       " 111,\n",
       " 120,\n",
       " 121,\n",
       " 123,\n",
       " 126]"
      ]
     },
     "execution_count": 305,
     "metadata": {},
     "output_type": "execute_result"
    }
   ],
   "source": [
    "select_0"
   ]
  },
  {
   "cell_type": "markdown",
   "id": "6bf92a54",
   "metadata": {},
   "source": [
    "## 1b) Estimating the efficacy of vaccines\n",
    "\n",
    "We estimate the efficacy of the vaccines by\n",
    "$$ 100 \\cdot (1-IRR)$$\n",
    "where IRR is the ratio of the vaccinated incidence rate and not vaccinated incidence incidenes (link).\n"
   ]
  },
  {
   "cell_type": "code",
   "execution_count": 360,
   "id": "1075a247",
   "metadata": {},
   "outputs": [],
   "source": [
    "def count_status(vac_list, symptom_name):\n",
    "    index = symptom_names.index(symptom_name)\n",
    "    vacc_pos = 0\n",
    "    for i in vac_list:\n",
    "        if symptoms[i][1] == 1 and symptoms[i][index] == 1: \n",
    "            vacc_pos += 1\n",
    "    return vacc_pos\n",
    "\n",
    "def find_alpha(beta,p):\n",
    "    return beta*p/(1-p)\n",
    "\n",
    "def find_efficacy(vaccinated,not_vaccinated,symptom_name,count_status):\n",
    "    vacc_pos = count_status(vaccinated,symptom_name)\n",
    "    not_pos = count_status(not_vaccinated,symptom_name)\n",
    "\n",
    "    v = vacc_pos/len(vaccinated)\n",
    "    n_v = not_pos/len(not_vaccinated)\n",
    "    IRR = v/n_v\n",
    "    \n",
    "    efficacy = 100*(1- IRR)\n",
    "    \n",
    "    N = len(obs_data)\n",
    "    beta = 1\n",
    "    p = prior_probs[symptom_name]\n",
    "    alpha = find_alpha(beta,p)\n",
    "    \n",
    "    samples_vaccine = stats.beta.rvs(alpha + vacc_pos, beta + len(vaccinated) - vacc_pos, size=N)\n",
    "    samples_no_vaccine = stats.beta.rvs(alpha + not_pos, beta + len(not_vaccinated) - not_pos, size=N)\n",
    "    \n",
    "    samples_ve = 100 * (1 - samples_vaccine/samples_no_vaccine)\n",
    "    lower = np.percentile(samples_ve, 2.5)\n",
    "    upper = np.percentile(samples_ve, 97.5)\n",
    "    print(f'{symptom_name:15s}: {efficacy:3.3f} - ({lower:3.3f}, {upper:3.3f})')    "
   ]
  },
  {
   "cell_type": "code",
   "execution_count": 361,
   "id": "d6f88046",
   "metadata": {},
   "outputs": [
    {
     "name": "stdout",
     "output_type": "stream",
     "text": [
      "Efficacy of the vaccinated:\n",
      "Covid-Recovered: 28.965 - (20.059, 36.869)\n",
      "Covid-Positive : 21.464 - (19.616, 23.273)\n",
      "No-Taste/Smell : 47.521 - (41.616, 52.851)\n",
      "Fever          : 51.575 - (44.935, 57.400)\n",
      "Headache       : 45.473 - (28.823, 58.220)\n",
      "Pneumonia      : 57.810 - (51.560, 63.310)\n",
      "Stomach        : 50.542 - (25.734, 67.384)\n",
      "Myocarditis    : 44.531 - (28.486, 57.250)\n",
      "Blood-Clots    : 57.190 - (50.936, 62.763)\n",
      "Death          : 93.394 - (90.537, 95.672)\n"
     ]
    }
   ],
   "source": [
    "#samples with vaccinations or not:\n",
    "not_vaccinated = [i for i in range(len(vaccination_status)) if all(v==0 for v in vaccination_status[i])]\n",
    "vaccinated = [i for i in range(len(vaccination_status)) if any(v !=0 for v in vaccination_status[i])]\n",
    "symptom_names = ['Covid-Recovered', 'Covid-Positive', 'No-Taste/Smell', 'Fever', 'Headache', 'Pneumonia', 'Stomach', 'Myocarditis', 'Blood-Clots', 'Death']\n",
    "prior_probs= {key:np.sum(obs_data.iloc[:,i]) / len(obs_data) for i, key in enumerate(symptom_names)}\n",
    "\n",
    "print(\"Efficacy of the vaccinated:\")\n",
    "for s in symptom_names:\n",
    "    find_efficacy(vaccinated,not_vaccinated,s,count_status)\n",
    "    \n"
   ]
  },
  {
   "cell_type": "code",
   "execution_count": 362,
   "id": "d81522ec",
   "metadata": {},
   "outputs": [
    {
     "name": "stdout",
     "output_type": "stream",
     "text": [
      "type 1\n",
      "Covid-Recovered: 19.633 - (6.046, 31.658)\n",
      "Covid-Positive : 11.296 - (8.507, 14.002)\n",
      "No-Taste/Smell : 34.419 - (24.618, 43.312)\n",
      "Fever          : 43.590 - (32.880, 53.126)\n",
      "Headache       : 30.767 - (2.579, 52.425)\n",
      "Pneumonia      : 54.129 - (44.267, 62.771)\n",
      "Stomach        : 28.704 - (-16.746, 59.230)\n",
      "Myocarditis    : 36.093 - (10.886, 55.725)\n",
      "Blood-Clots    : 48.746 - (38.153, 57.935)\n",
      "Death          : 95.704 - (91.535, 98.433)\n",
      "\n",
      "type 2\n",
      "Covid-Recovered: 28.837 - (16.332, 39.894)\n",
      "Covid-Positive : 20.584 - (17.995, 23.112)\n",
      "No-Taste/Smell : 43.109 - (34.140, 51.227)\n",
      "Fever          : 45.703 - (35.285, 54.934)\n",
      "Headache       : 39.907 - (14.279, 59.434)\n",
      "Pneumonia      : 48.345 - (37.812, 57.583)\n",
      "Stomach        : 70.324 - (42.592, 87.583)\n",
      "Myocarditis    : 35.284 - (9.791, 55.071)\n",
      "Blood-Clots    : 47.762 - (37.153, 57.103)\n",
      "Death          : 92.922 - (87.721, 96.637)\n",
      "\n",
      "type 3\n",
      "Covid-Recovered: 38.211 - (26.831, 48.202)\n",
      "Covid-Positive : 32.271 - (29.871, 34.603)\n",
      "No-Taste/Smell : 64.686 - (57.859, 70.739)\n",
      "Fever          : 65.183 - (57.069, 72.207)\n",
      "Headache       : 65.346 - (46.473, 79.092)\n",
      "Pneumonia      : 70.765 - (63.147, 77.341)\n",
      "Stomach        : 52.328 - (16.799, 75.642)\n",
      "Myocarditis    : 61.919 - (43.161, 76.044)\n",
      "Blood-Clots    : 74.762 - (67.730, 80.777)\n",
      "Death          : 91.603 - (86.032, 95.689)\n",
      "\n"
     ]
    }
   ],
   "source": [
    "vacc_type1 = [i for i in range(len(vaccination_status)) if vaccination_status[i][0] == 1]\n",
    "vacc_type2 = [i for i in range(len(vaccination_status)) if vaccination_status[i][1] == 1]\n",
    "vacc_type3 = [i for i in range(len(vaccination_status)) if vaccination_status[i][2] == 1]\n",
    "vaccination_types = [vacc_type1,vacc_type2,vacc_type3]\n",
    "vaccination_names = ['type 1', 'type 2', 'type 3']\n",
    "\n",
    "for name in vaccination_names:\n",
    "    print(name)\n",
    "    index = vaccination_names.index(name)\n",
    "    for s in symptom_names:\n",
    "        find_efficacy(vaccination_types[index],not_vaccinated,s,count_status)\n",
    "    print(\"\")"
   ]
  },
  {
   "cell_type": "markdown",
   "id": "d23e8a26",
   "metadata": {},
   "source": [
    "## 1c) Estimating the probability of vaccination side-effects."
   ]
  },
  {
   "cell_type": "markdown",
   "id": "6bdfd66f",
   "metadata": {},
   "source": [
    "Using the Bayes theorem, we will estimate the probability of vaccination side-effects\n",
    "$$P(symptom | vaccine,covid') = \\frac{P(symptom \\cap vaccine,covid')}{P(vaccine,covid')} $$"
   ]
  },
  {
   "cell_type": "code",
   "execution_count": 401,
   "id": "c668f771",
   "metadata": {},
   "outputs": [
    {
     "name": "stdout",
     "output_type": "stream",
     "text": [
      "No-Taste/Smell :0.00081 0.00057  diff:0.00024\n",
      "Fever          :0.09903 0.00508  diff:0.09395\n",
      "Headache       :0.05579 0.01053  diff:0.04526\n",
      "Pneumonia      :0.00133 0.00144  diff:-0.00011\n",
      "Stomach        :0.00231 0.00257  diff:-0.00026\n",
      "Myocarditis    :0.00214 0.00047  diff:0.00168\n",
      "Blood-Clots    :0.00243 0.00110  diff:0.00133\n",
      "Death          :0.00035 0.00000  diff:0.00035\n"
     ]
    }
   ],
   "source": [
    "vacced = obs_data[np.sum(obs_data.iloc[:,-3:], axis=1) == 1]\n",
    "vacced_neg = vacced[vacced.iloc[:,1]==0]\n",
    "\n",
    "un_vacced = obs_data[np.sum(obs_data.iloc[:,-3:], axis=1) == 0]\n",
    "un_vacced_neg = un_vacced[un_vacced.iloc[:,1]==0]\n",
    "\n",
    "for i in range(2, 10):\n",
    "    p_vac = vacced_neg.sum()[i] / len(obs_data) / (len(vacced_neg) / len(obs_data))\n",
    "    p_unvac = un_vacced_neg.sum()[i] / len(obs_data) / (len(un_vacced_neg) / len(obs_data))\n",
    "\n",
    "    print(f'{symptom_names[i]:15s}:{p_vac:4.5f}',end=' ')\n",
    "    print(f'{p_unvac:4.5f}',end=' ')\n",
    "    print(f' diff:{p_vac-p_unvac:4.5f}')"
   ]
  },
  {
   "cell_type": "code",
   "execution_count": 394,
   "id": "081e6fff",
   "metadata": {},
   "outputs": [
    {
     "name": "stdout",
     "output_type": "stream",
     "text": [
      "-0.00007 0.00055\n",
      "0.09161 0.09628\n",
      "0.04329 0.04723\n",
      "-0.00056 0.00035\n",
      "-0.00086 0.00034\n",
      "0.00127 0.00208\n",
      "0.00085 0.00182\n",
      "0.00021 0.00049\n"
     ]
    }
   ],
   "source": [
    "vac_probs = [(vacced_neg.sum()[i] / len(obs_data)) / (len(vacced_neg) / len(obs_data)) for i in range(2,10)]\n",
    "unvac_probs = [(un_vacced_neg.sum()[i] / len(obs_data)) / (len(un_vacced_neg) / len(obs_data)) for i in range(2,10)]\n",
    "list(zip(vac_probs, unvac_probs))\n",
    "np.array(vac_probs) - np.array(unvac_probs)\n",
    "\n",
    "for p1, p2 in zip(vac_probs, unvac_probs):\n",
    "    lower = (p1-p2 - 1.64 * np.sqrt((p1*(1-p1) / len(vacced_neg)) + (p2 * (1-p2) / len(un_vacced_neg))))\n",
    "    higher = (p1-p2 + 1.64 * np.sqrt((p1*(1-p1) / len(vacced_neg)) + (p2 * (1-p2) / len(un_vacced_neg))))\n",
    "    \n",
    "    print(f\"{lower:6.5f} {higher:6.5f}\")"
   ]
  }
 ],
 "metadata": {
  "kernelspec": {
   "display_name": "Python 3 (ipykernel)",
   "language": "python",
   "name": "python3"
  },
  "language_info": {
   "codemirror_mode": {
    "name": "ipython",
    "version": 3
   },
   "file_extension": ".py",
   "mimetype": "text/x-python",
   "name": "python",
   "nbconvert_exporter": "python",
   "pygments_lexer": "ipython3",
   "version": "3.9.6"
  }
 },
 "nbformat": 4,
 "nbformat_minor": 5
}
